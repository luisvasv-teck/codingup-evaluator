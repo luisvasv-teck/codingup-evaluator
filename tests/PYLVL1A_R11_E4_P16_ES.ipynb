{
  "nbformat": 4,
  "nbformat_minor": 0,
  "metadata": {
    "colab": {
      "provenance": []
    },
    "kernelspec": {
      "name": "python3",
      "display_name": "Python 3"
    },
    "language_info": {
      "name": "python"
    }
  },
  "cells": [
    {
      "cell_type": "markdown",
      "source": [
        "<p><img src=\" https://upload.wikimedia.org/wikipedia/commons/1/13/SoftServe_logo_2017.svg\" alt=\"\" width=\"363\" height=\"63\" /></p>\n",
        "\n",
        "----\n",
        "\n",
        "### **INFORMACIÓN TECNICA**\n",
        "* **ID**: PYLVL1A_R11-E4-P15\n",
        "* **Python Versión:** 3.x\n",
        "* **Versión:** 0.0.1\n",
        "---\n",
        "### **INTRODUCCIÓN**\n",
        "\n",
        "En este modulo se ejercitara la identificacion de como insertar comentarios\n",
        "simples y dobles en Python y como aprender a identificar sus diferencias.\n",
        "\n",
        "### **QUE SE APRENDERA**\n",
        "\n",
        "- Definición de Comentarios.\n",
        "- Diferencia entre comentarios simples, multilinea y TODO.\n",
        "- Importancia dentro de la documentacion.\n",
        "\n",
        "<font color='red'>**RESULTADOS ESPERADOS**</font>\n",
        "```python\n",
        "Identificacion de Comentarios\n",
        "Cuando utilizarlos\n",
        "importancia en la documentacion\n",
        "```\n",
        "\n",
        "# **EJERCICIOS**"
      ],
      "metadata": {
        "id": "f95p817qByaC"
      }
    },
    {
      "cell_type": "markdown",
      "source": [
        "<p><img src=\"https://cdn.icon-icons.com/icons2/1130/PNG/512/numberoneinacircle_80030.png\" alt=\"\" width=\"73\" height=\"73\" /></p>\n",
        "\n",
        "* **ID** PYLVL1A-1\n",
        "* **DESCRIPCIÓN:** \n",
        "Con este ejercicio se pretende identificar que es un comentario simple (una linea) y su relacion con el codigo. </br>\n",
        "\n",
        "Este ejercicio es de FALSO O VERDADERO </br>\n",
        "\n",
        "Por favor chequear la casilla Check si considera la afirmacion verdadera o dejarla en blanco si la considera falsa</br>\n",
        "\n",
        "Los comentarios es una informacion adicional que se le agrega al codigo para interactual con el (infiere). \n"
      ],
      "metadata": {
        "id": "I1kgAOsTKqlx"
      }
    },
    {
      "cell_type": "code",
      "source": [
        "Check = False #@param {type:\"boolean\"}\n",
        "\n",
        "if Check == True:\n",
        "  print(\"Incorrecto\")\n",
        "else:\n",
        "  print(\"Correcto\")\n",
        "\n"
      ],
      "metadata": {
        "cellView": "form",
        "id": "J7PqhHrhpyS8"
      },
      "execution_count": null,
      "outputs": []
    },
    {
      "cell_type": "markdown",
      "source": [
        "<p><img src=\"https://cdn.icon-icons.com/icons2/1130/PNG/512/numbertwoinacircle_80299.png\" alt=\"\" width=\"73\" height=\"73\" /></p>\n",
        "\n",
        "* **ID** PYLVL1A-2\n",
        "* **DESCRIPCIÓN:** \n",
        "Inserte un comentario simple que describa que hace el metodo print mostrado en el codigo </br>\n",
        "\n",
        "Objetivos reconocer que simbolo se utiliza para insertar un comentario simple (una linea)\n"
      ],
      "metadata": {
        "id": "kiToUnqMNmJc"
      }
    },
    {
      "cell_type": "code",
      "source": [
        "# PYLVL1A-2\n",
        "\n",
        "print('Voy a tener un comentario')"
      ],
      "metadata": {
        "id": "PP9Ioa9TQ8dy"
      },
      "execution_count": null,
      "outputs": []
    },
    {
      "cell_type": "markdown",
      "source": [
        "<p><img src=\"https://cdn.icon-icons.com/icons2/1130/PNG/512/numberthreeinacircle_80289.png\" alt=\"\" width=\"73\" height=\"73\" /></p>\n",
        "\n",
        "* **ID** PYLVL1A-3\n",
        "* **DESCRIPCIÓN:** \n",
        "El otro tipo de comentario existente en python es el comentario multi linea, en este ejerccio se requiere insertar un comentario de dos lineas que describa el codigo a continuacion. </br>\n",
        "\n",
        "Objetivo reconocer como se inserta un comentario multilinea en python.\n",
        "\n"
      ],
      "metadata": {
        "id": "N5EqgFikQH46"
      }
    },
    {
      "cell_type": "code",
      "source": [
        "# PYLVL1A-3\n",
        "\n",
        "a = 5\n",
        "b = 6\n",
        "print(a+b)\n"
      ],
      "metadata": {
        "id": "wenUGkHINCyq"
      },
      "execution_count": null,
      "outputs": []
    },
    {
      "cell_type": "markdown",
      "source": [
        "<p><img src=\"https://cdn.icon-icons.com/icons2/1130/PNG/512/numberfourincircularbutton_80047.png\" alt=\"\" width=\"73\" height=\"73\" /></p>\n",
        "\n",
        "* **ID** PYLVL1A-4\n",
        "* **DESCRIPCIÓN:** \n",
        "Ejercicio para identificar si existe alguna diferencia entre estos dos simbolos para la insercion de comentarios. </br>\n",
        "\n",
        "Por favor chequear la casilla Check, si considera la afirmacion verdadera o dejarla en blanco si la considera falsa</br>\n",
        "\n",
        "no hay diferencias entre insertar un comentario de esta forma \" \" \" o de esta otra ' ' ' ?\n",
        "\n"
      ],
      "metadata": {
        "id": "FUESHrYcl5Om"
      }
    },
    {
      "cell_type": "code",
      "source": [
        "Check = False #@param {type:\"boolean\"}\n",
        "if Check == True:\n",
        "  print(\"Correcto\")\n",
        "else:\n",
        "  print(\"Inorrecto\")"
      ],
      "metadata": {
        "id": "4kZX3b9om0ah",
        "cellView": "form"
      },
      "execution_count": null,
      "outputs": []
    }
  ]
}